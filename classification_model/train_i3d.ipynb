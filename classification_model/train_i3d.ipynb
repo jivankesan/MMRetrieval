{
 "cells": [
  {
   "cell_type": "code",
   "execution_count": null,
   "metadata": {},
   "outputs": [],
   "source": [
    "import os\n",
    "import argparse\n",
    "\n",
    "import torch\n",
    "import torch.nn as nn\n",
    "import torch.optim as optim\n",
    "from torch.autograd import Variable\n",
    "\n",
    "from torchvision import datasets, transforms\n",
    "import videotransforms\n",
    "from utils import *\n",
    "\n",
    "from pytorch_i3d import InceptionI3d\n",
    "from dataset import *"
   ]
  },
  {
   "cell_type": "code",
   "execution_count": null,
   "metadata": {},
   "outputs": [],
   "source": [
    "init_lr=0.01\n",
    "max_steps=100\n",
    "mode='rgb'\n",
    "root='../../'\n",
    "batch_size=16\n",
    "save_model='weights/'\n",
    "protocol='CS'"
   ]
  },
  {
   "cell_type": "code",
   "execution_count": null,
   "metadata": {},
   "outputs": [],
   "source": [
    "train_transforms = transforms.Compose([videotransforms.CenterCrop(224)])\n",
    "test_transforms = transforms.Compose([videotransforms.CenterCrop(224)])\n"
   ]
  },
  {
   "cell_type": "code",
   "execution_count": null,
   "metadata": {},
   "outputs": [],
   "source": [
    "num_classes = 31"
   ]
  },
  {
   "cell_type": "code",
   "execution_count": null,
   "metadata": {},
   "outputs": [],
   "source": [
    "train_dataset = Dataset('./splits/train_cs.txt', 'train', root, \"rgb\", train_transforms, protocol)\n",
    "train_dataloader = torch.utils.data.DataLoader(train_dataset, batch_size=batch_size, shuffle=True, num_workers=4, pin_memory=True, collate_fn=custom_collate_fn)\n",
    "\n",
    "val_dataset = Dataset('./splits/validation_cs.txt', 'val', root, 'rgb', test_transforms, protocol)\n",
    "val_dataloader = torch.utils.data.DataLoader(val_dataset, batch_size=batch_size, shuffle=True, num_workers=36, pin_memory=True, collate_fn = custom_collate_fn)    \n",
    "\n",
    "dataloaders = {'train': train_dataloader, 'val': val_dataloader}\n",
    "datasets = {'train': train_dataset, 'val': val_dataset}\n",
    "    "
   ]
  },
  {
   "cell_type": "code",
   "execution_count": null,
   "metadata": {},
   "outputs": [],
   "source": [
    "# setup the model\n",
    "if mode == 'flow':\n",
    "    i3d = InceptionI3d(400, in_channels=2)\n",
    "    i3d.load_state_dict(torch.load('models/flow_imagenet.pt'))\n",
    "else:\n",
    "    i3d = InceptionI3d(400, in_channels=3)\n",
    "    i3d.load_state_dict(torch.load('models/rgb_imagenet.pt'))\n",
    "i3d.replace_logits(num_classes)    "
   ]
  },
  {
   "cell_type": "code",
   "execution_count": null,
   "metadata": {},
   "outputs": [],
   "source": [
    "i3d.cuda()\n",
    "i3d = nn.DataParallel(i3d)\n",
    "\n",
    "lr = init_lr\n",
    "optimizer = optim.SGD(i3d.parameters(), lr=lr, momentum=0.9)\n",
    "lr_sched = optim.lr_scheduler.ReduceLROnPlateau(optimizer, factor=0.1, patience=10, verbose=True)\n"
   ]
  },
  {
   "cell_type": "code",
   "execution_count": null,
   "metadata": {},
   "outputs": [],
   "source": [
    "num_steps_per_update = 1 # accum gradient\n",
    "steps = 0\n",
    "# train it\n",
    "while steps < max_steps:\n",
    "    print ('Step {}/{}'.format(steps, max_steps))\n",
    "    print ('-' * 10)\n",
    "    # Each epoch has a training and validation phase\n",
    "    for phase in ['train', 'val']:\n",
    "        if phase == 'train':\n",
    "            i3d.train(True)\n",
    "        else:\n",
    "            i3d.train(False)  # Set model to evaluate mode\n",
    "\n",
    "        tot_loss = 0.0\n",
    "        tot_loc_loss = 0.0\n",
    "        tot_cls_loss = 0.0\n",
    "        tot_acc = 0.0\n",
    "        num_iter = 0\n",
    "        optimizer.zero_grad()\n",
    "            \n",
    "        # Iterate over data.\n",
    "        for data in dataloaders[phase]:\n",
    "            num_iter += 1\n",
    "            # get the inputs\n",
    "            inputs, labels = data\n",
    "            # wrap them in Variable\n",
    "            inputs = Variable(inputs.cuda())\n",
    "            labels = Variable(labels.cuda())\n",
    "\n",
    "            per_frame_logits = i3d(inputs)\n",
    "            criterion=nn.CrossEntropyLoss().cuda()\n",
    "            cls_loss = criterion(per_frame_logits, torch.max(labels, dim=1)[1].long())\n",
    "            tot_cls_loss += cls_loss.data\n",
    "\n",
    "            loss = cls_loss\n",
    "            tot_loss += loss.data\n",
    "            loss.backward()\n",
    "            acc = calculate_accuracy(per_frame_logits, torch.max(labels, dim=1)[1])\n",
    "            tot_acc += acc\n",
    "            if phase == 'train':\n",
    "                optimizer.step()\n",
    "                optimizer.zero_grad()#lr_sched.step()\n",
    "\n",
    "        if phase == 'train':\n",
    "            print ('{} Loc Loss: {:.4f} Cls Loss: {:.4f} Tot Loss: {:.4f}, Acc: {:.4f}'.format(phase, tot_loc_loss/num_iter, tot_cls_loss/num_iter, tot_loss/num_iter, tot_acc/num_iter))\n",
    "            # save model\n",
    "            torch.save(i3d.module.state_dict(), save_model+str(steps).zfill(6)+'.pt')\n",
    "            tot_loss = tot_loc_loss = tot_cls_loss = tot_acc = 0.\n",
    "            steps += 1\n",
    "        if phase == 'val':\n",
    "            lr_sched.step(tot_cls_loss/num_iter)\n",
    "            print ('{} Loc Loss: {:.4f} Cls Loss: {:.4f} Tot Loss: {:.4f}, Acc: {:.4f}'.format(phase, tot_loc_loss/num_iter, tot_cls_loss/num_iter, (tot_loss*num_steps_per_update)/num_iter, tot_acc/num_iter))\n",
    "    \n"
   ]
  }
 ],
 "metadata": {
  "language_info": {
   "name": "python"
  },
  "orig_nbformat": 4
 },
 "nbformat": 4,
 "nbformat_minor": 2
}
